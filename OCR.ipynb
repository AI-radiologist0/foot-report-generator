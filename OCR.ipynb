{
 "cells": [
  {
   "cell_type": "markdown",
   "metadata": {},
   "source": [
    "# Import"
   ]
  },
  {
   "cell_type": "code",
   "execution_count": 9,
   "metadata": {},
   "outputs": [
    {
     "name": "stdout",
     "output_type": "stream",
     "text": [
      "Requirement already satisfied: pytesseract in /Users/thienphuquach/anaconda3/lib/python3.11/site-packages (0.3.13)\n",
      "Requirement already satisfied: packaging>=21.3 in /Users/thienphuquach/anaconda3/lib/python3.11/site-packages (from pytesseract) (23.1)\n",
      "Requirement already satisfied: Pillow>=8.0.0 in /Users/thienphuquach/anaconda3/lib/python3.11/site-packages (from pytesseract) (10.0.1)\n",
      "Requirement already satisfied: opencv-python in /Users/thienphuquach/anaconda3/lib/python3.11/site-packages (4.10.0.84)\n",
      "Requirement already satisfied: numpy>=1.21.2 in /Users/thienphuquach/anaconda3/lib/python3.11/site-packages (from opencv-python) (1.26.3)\n",
      "Requirement already satisfied: pillow in /Users/thienphuquach/anaconda3/lib/python3.11/site-packages (10.0.1)\n",
      "Requirement already satisfied: opencv-python in /Users/thienphuquach/anaconda3/lib/python3.11/site-packages (4.10.0.84)\n",
      "Requirement already satisfied: pytesseract in /Users/thienphuquach/anaconda3/lib/python3.11/site-packages (0.3.13)\n",
      "Requirement already satisfied: tqdm in /Users/thienphuquach/anaconda3/lib/python3.11/site-packages (4.65.0)\n",
      "Requirement already satisfied: numpy>=1.21.2 in /Users/thienphuquach/anaconda3/lib/python3.11/site-packages (from opencv-python) (1.26.3)\n",
      "Requirement already satisfied: packaging>=21.3 in /Users/thienphuquach/anaconda3/lib/python3.11/site-packages (from pytesseract) (23.1)\n",
      "Requirement already satisfied: Pillow>=8.0.0 in /Users/thienphuquach/anaconda3/lib/python3.11/site-packages (from pytesseract) (10.0.1)\n"
     ]
    }
   ],
   "source": [
    "!pip install pytesseract\n",
    "!pip install opencv-python\n",
    "!pip install pillow\n",
    "!pip install opencv-python pytesseract tqdm"
   ]
  },
  {
   "cell_type": "code",
   "execution_count": 13,
   "metadata": {},
   "outputs": [],
   "source": [
    "import pytesseract\n",
    "import numpy as np\n",
    "import cv2 \n",
    "import os\n",
    "import json\n",
    "import pickle\n",
    "from tqdm import tqdm "
   ]
  },
  {
   "cell_type": "code",
   "execution_count": 11,
   "metadata": {},
   "outputs": [
    {
     "name": "stdout",
     "output_type": "stream",
     "text": [
      "Page segmentation modes (PSM):\n",
      "  0|osd_only                Orientation and script detection (OSD) only.\n",
      "  1|auto_osd                Automatic page segmentation with OSD.\n",
      "  2|auto_only               Automatic page segmentation, but no OSD, or OCR. (not implemented)\n",
      "  3|auto                    Fully automatic page segmentation, but no OSD. (Default)\n",
      "  4|single_column           Assume a single column of text of variable sizes.\n",
      "  5|single_block_vert_text  Assume a single uniform block of vertically aligned text.\n",
      "  6|single_block            Assume a single uniform block of text.\n",
      "  7|single_line             Treat the image as a single text line.\n",
      "  8|single_word             Treat the image as a single word.\n",
      "  9|circle_word             Treat the image as a single word in a circle.\n",
      " 10|single_char             Treat the image as a single character.\n",
      " 11|sparse_text             Sparse text. Find as much text as possible in no particular order.\n",
      " 12|sparse_text_osd         Sparse text with OSD.\n",
      " 13|raw_line                Raw line. Treat the image as a single text line,\n",
      "                            bypassing hacks that are Tesseract-specific.\n"
     ]
    }
   ],
   "source": [
    "!tesseract --help-psm"
   ]
  },
  {
   "cell_type": "markdown",
   "metadata": {},
   "source": [
    "## Testing"
   ]
  },
  {
   "cell_type": "code",
   "execution_count": null,
   "metadata": {},
   "outputs": [],
   "source": [
    "# Testing file \n",
    "img = cv2.imread('/content/drive/MyDrive/Deep Learning/OCR/adjun.jpg')\n",
    "img2 = cv2.imread('/content/drive/MyDrive/Deep Learning/OCR/min.jpg')\n",
    "img3 = cv2.imread('/content/drive/MyDrive/Deep Learning/OCR/LST.jpg')\n",
    "\n",
    "\n",
    "cv2.imshow(img)\n",
    "cv2.imshow(img2)\n",
    "cv2.imshow(img3)"
   ]
  },
  {
   "cell_type": "code",
   "execution_count": null,
   "metadata": {},
   "outputs": [],
   "source": [
    "def preprocess_xray_image(rgb):\n",
    "    if len(rgb.shape) == 3:\n",
    "        gray = cv2.cvtColor(rgb, cv2.COLOR_BGR2GRAY)\n",
    "    else:\n",
    "        gray = rgb\n",
    "    inverted = cv2.bitwise_not(gray)\n",
    "    contrast = cv2.convertScaleAbs(inverted, alpha=1.5, beta=0)\n",
    "    denoised = cv2.fastNlMeansDenoising(contrast)\n",
    "    _, thresh = cv2.threshold(denoised, 150, 255, cv2.THRESH_BINARY + cv2.THRESH_OTSU)\n",
    "    return thresh\n",
    "\n",
    "processed_img = preprocess_xray_image(img)\n",
    "config = r'--psm 3'\n",
    "custom_config = config + r' -c tessedit_char_whitelist=ABCDEFGHIJKLMNOPQRSTUVWXYZabcdefghijklmnopqrstuvwxyz0123456789./-'\n",
    "text = pytesseract.image_to_string(processed_img, config=custom_config)\n",
    "print(\"Detected text:\",text)\n",
    "\n"
   ]
  },
  {
   "cell_type": "code",
   "execution_count": null,
   "metadata": {},
   "outputs": [],
   "source": []
  },
  {
   "cell_type": "code",
   "execution_count": null,
   "metadata": {},
   "outputs": [],
   "source": []
  },
  {
   "cell_type": "code",
   "execution_count": null,
   "metadata": {},
   "outputs": [],
   "source": []
  },
  {
   "cell_type": "code",
   "execution_count": null,
   "metadata": {},
   "outputs": [],
   "source": []
  },
  {
   "cell_type": "code",
   "execution_count": null,
   "metadata": {},
   "outputs": [],
   "source": []
  },
  {
   "cell_type": "code",
   "execution_count": null,
   "metadata": {},
   "outputs": [],
   "source": []
  }
 ],
 "metadata": {
  "kernelspec": {
   "display_name": "base",
   "language": "python",
   "name": "python3"
  },
  "language_info": {
   "codemirror_mode": {
    "name": "ipython",
    "version": 3
   },
   "file_extension": ".py",
   "mimetype": "text/x-python",
   "name": "python",
   "nbconvert_exporter": "python",
   "pygments_lexer": "ipython3",
   "version": "3.11.5"
  }
 },
 "nbformat": 4,
 "nbformat_minor": 2
}
