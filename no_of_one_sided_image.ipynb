{
 "cells": [
  {
   "cell_type": "code",
   "execution_count": 2,
   "metadata": {},
   "outputs": [
    {
     "name": "stdout",
     "output_type": "stream",
     "text": [
      "Total number of subfolders: 2423\n",
      "Total number of folders with exactly 6 images: 469\n"
     ]
    }
   ],
   "source": [
    "import os\n",
    "\n",
    "# Define image extensions\n",
    "image_extensions = ('.jpg', '.jpeg', '.png', '.bmp', '.gif', '.tiff')\n",
    "\n",
    "# Target folders to scan\n",
    "folders_to_scan = [\n",
    "    'data/foot/gout/CAUNURI',\n",
    "    'data/foot/gout/CAUOLD',\n",
    "    'data/foot/RA/foot_ra_caunuri',\n",
    "    'data/foot/RA/foot_ra_cauold'\n",
    "]\n",
    "\n",
    "def analyze_folders(base_paths):\n",
    "    total_subfolders = 0\n",
    "    folders_with_6_images = 0\n",
    "\n",
    "    for base_path in base_paths:\n",
    "        if not os.path.exists(base_path):\n",
    "            print(f\"Path not found: {base_path}\")\n",
    "            continue\n",
    "\n",
    "        for subfolder in os.listdir(base_path):\n",
    "            subfolder_path = os.path.join(base_path, subfolder)\n",
    "            if os.path.isdir(subfolder_path):\n",
    "                total_subfolders += 1\n",
    "\n",
    "                image_files = [\n",
    "                    f for f in os.listdir(subfolder_path)\n",
    "                    if f.lower().endswith(image_extensions)\n",
    "                ]\n",
    "\n",
    "                if len(image_files) == 6:\n",
    "                    folders_with_6_images += 1\n",
    "\n",
    "    return total_subfolders, folders_with_6_images\n",
    "\n",
    "# Run the analysis\n",
    "total_subfolders, folders_with_6_images = analyze_folders(folders_to_scan)\n",
    "\n",
    "# Print the results\n",
    "print(f\"Total number of subfolders: {total_subfolders}\")\n",
    "print(f\"Total number of folders with exactly 6 images: {folders_with_6_images}\")\n"
   ]
  },
  {
   "cell_type": "code",
   "execution_count": 7,
   "metadata": {},
   "outputs": [
    {
     "name": "stdout",
     "output_type": "stream",
     "text": [
      "✅ Saved cleaned file: report/cleaned/cleaned_foot_ra_report_cau.xlsx\n",
      "✅ Saved cleaned file: report/cleaned/cleaned_foot_ra_report_old.xlsx\n",
      "✅ Saved cleaned file: report/cleaned/cleaned_gout_report_cau.xlsx\n",
      "✅ Saved cleaned file: report/cleaned/cleaned_gout_report_old.xlsx\n"
     ]
    }
   ],
   "source": [
    "import pandas as pd\n",
    "import re\n",
    "import unicodedata\n",
    "import os\n",
    "\n",
    "# Cleaning function (unchanged)\n",
    "def clean_report(text, eos_token):\n",
    "    if pd.isna(text):\n",
    "        return text\n",
    "\n",
    "    text = unicodedata.normalize('NFKC', text)\n",
    "    text = re.sub(r'[^\\x00-\\x7F]+', ' ', text)\n",
    "    text = re.sub(r'([.!?]){2,}', r'\\1', text)\n",
    "\n",
    "    text = re.sub(r'\\[\\s*finding\\s*\\]', '[FINDING]', text, flags=re.IGNORECASE)\n",
    "    text = re.sub(r'\\[\\s*conclusion\\s*\\]', '[CONCLUSION]', text, flags=re.IGNORECASE)\n",
    "    text = re.sub(r'\\[\\s*diagnosis\\s*\\]', '[DIAGNOSIS]', text, flags=re.IGNORECASE)\n",
    "\n",
    "    parts = re.split(r'\\[\\s*recommend(?:ation)?\\s*\\]', text, flags=re.IGNORECASE)\n",
    "    text = parts[0]\n",
    "\n",
    "    finding_match = re.search(r'\\[FINDING\\](.*?)(?=\\[|$)', text, flags=re.IGNORECASE | re.DOTALL)\n",
    "    conclusion_match = re.search(r'\\[CONCLUSION\\](.*?)(?=\\[|$)', text, flags=re.IGNORECASE | re.DOTALL)\n",
    "    if finding_match and conclusion_match:\n",
    "        finding_text = finding_match.group(1).strip()\n",
    "        conclusion_text = conclusion_match.group(1).strip()\n",
    "        if finding_text.lower() == conclusion_text.lower():\n",
    "            text = re.sub(r'\\[CONCLUSION\\].*?(?=\\[|$)', '', text, flags=re.IGNORECASE | re.DOTALL)\n",
    "\n",
    "    text = re.sub(r'\\[\\s*(FINDING|CONCLUSION|DIAGNOSIS)\\s*\\]', '', text, flags=re.IGNORECASE)\n",
    "    text = text.replace('_x000D_', ' ')\n",
    "    text = re.sub(r'\\s+', ' ', text).strip()\n",
    "\n",
    "    return text\n",
    "\n",
    "# Setup\n",
    "report_folder = 'report'\n",
    "output_folder = os.path.join(report_folder, 'cleaned')\n",
    "os.makedirs(output_folder, exist_ok=True)\n",
    "\n",
    "# File list\n",
    "excel_files = [\n",
    "    'foot_ra_report_cau.xlsx',\n",
    "    'foot_ra_report_old.xlsx',\n",
    "    'gout_report_cau.xlsx',\n",
    "    'gout_report_old.xlsx'\n",
    "]\n",
    "\n",
    "# Process\n",
    "for file in excel_files:\n",
    "    input_path = os.path.join(report_folder, file)\n",
    "    if not os.path.exists(input_path):\n",
    "        print(f\"❌ File not found: {input_path}\")\n",
    "        continue\n",
    "\n",
    "    df = pd.read_excel(input_path, dtype=str)  # Read everything as string to preserve structure\n",
    "\n",
    "    if '판독문' in df.columns:\n",
    "        # Create new column with cleaned text\n",
    "        df['cleaned_판독문'] = df['판독문'].apply(lambda x: clean_report(x, '<eos>'))\n",
    "    else:\n",
    "        print(f\"⚠️ '판독문' column not found in {file}. Skipping cleaning.\")\n",
    "\n",
    "    # Save cleaned version\n",
    "    output_file = 'cleaned_' + file\n",
    "    output_path = os.path.join(output_folder, output_file)\n",
    "    df.to_excel(output_path, index=False)\n",
    "    print(f\"✅ Saved cleaned file: {output_path}\")\n"
   ]
  },
  {
   "cell_type": "code",
   "execution_count": null,
   "metadata": {},
   "outputs": [],
   "source": []
  }
 ],
 "metadata": {
  "kernelspec": {
   "display_name": "Python 3",
   "language": "python",
   "name": "python3"
  },
  "language_info": {
   "codemirror_mode": {
    "name": "ipython",
    "version": 3
   },
   "file_extension": ".py",
   "mimetype": "text/x-python",
   "name": "python",
   "nbconvert_exporter": "python",
   "pygments_lexer": "ipython3",
   "version": "3.12.8"
  }
 },
 "nbformat": 4,
 "nbformat_minor": 2
}
